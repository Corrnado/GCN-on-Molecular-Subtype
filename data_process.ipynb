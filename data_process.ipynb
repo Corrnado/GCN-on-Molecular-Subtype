{
 "cells": [
  {
   "cell_type": "code",
   "execution_count": 1,
   "metadata": {},
   "outputs": [],
   "source": [
    "import numpy as np\n",
    "import pandas as pd"
   ]
  },
  {
   "cell_type": "code",
   "execution_count": 2,
   "metadata": {},
   "outputs": [],
   "source": [
    "mirna_data = pd.read_csv('data/common_mirna_data.csv',header=0,index_col=0)\n",
    "mirna_data = mirna_data.T\n",
    "mirna_data.to_csv('data/common_mirna_data.tsv', sep='\\t')"
   ]
  },
  {
   "cell_type": "code",
   "execution_count": 3,
   "metadata": {},
   "outputs": [
    {
     "data": {
      "text/plain": [
       "(9554, 743)"
      ]
     },
     "execution_count": 3,
     "metadata": {},
     "output_type": "execute_result"
    }
   ],
   "source": [
    "mirna_data.shape"
   ]
  },
  {
   "cell_type": "code",
   "execution_count": 4,
   "metadata": {},
   "outputs": [
    {
     "data": {
      "text/plain": [
       "Index(['TCGA-C4-A0F6', 'TCGA-CU-A0YO', 'TCGA-BT-A0S7', 'TCGA-CU-A0YR',\n",
       "       'TCGA-BL-A0C8', 'TCGA-C4-A0F0', 'TCGA-BL-A13J', 'TCGA-BT-A0YX',\n",
       "       'TCGA-CU-A0YN', 'TCGA-CF-A1HS',\n",
       "       ...\n",
       "       'TCGA-AG-A020', 'TCGA-AG-A01Y', 'TCGA-AG-A01W', 'TCGA-AG-3726',\n",
       "       'TCGA-AG-3605', 'TCGA-AG-3584', 'TCGA-AG-3599', 'TCGA-AG-3583',\n",
       "       'TCGA-AG-3598', 'TCGA-AG-3586'],\n",
       "      dtype='object', length=9554)"
      ]
     },
     "execution_count": 4,
     "metadata": {},
     "output_type": "execute_result"
    }
   ],
   "source": [
    "mirna_data.index"
   ]
  },
  {
   "cell_type": "code",
   "execution_count": 5,
   "metadata": {},
   "outputs": [],
   "source": [
    "expression_data = pd.read_csv('data/common_expression_data.tsv', sep = '\\t', header = 0, index_col = 0)"
   ]
  },
  {
   "cell_type": "code",
   "execution_count": 9,
   "metadata": {},
   "outputs": [
    {
     "name": "stdout",
     "output_type": "stream",
     "text": [
      "(9027, 17946)\n",
      "(9554, 743)\n",
      "9554\n"
     ]
    }
   ],
   "source": [
    "trimmed_expression_data = expression_data[expression_data['sample'].isin(list(mirna_data.index))]\n",
    "print(trimmed_expression_data.shape)\n",
    "mirna_data[mirna_data.index.isin(trimmed_expression_data['sample'])]\n",
    "print(mirna_data.shape)\n",
    "print(len(set(mirna_data.index.tolist())))"
   ]
  },
  {
   "cell_type": "code",
   "execution_count": 10,
   "metadata": {},
   "outputs": [
    {
     "name": "stdout",
     "output_type": "stream",
     "text": [
      "9664\n",
      "9554\n",
      "9027\n",
      "(9027, 743)\n"
     ]
    }
   ],
   "source": [
    "mrna_sample = set(expression_data['sample'])\n",
    "mirna_sample = set(mirna_data.index.tolist())\n",
    "common_sample = mrna_sample & mirna_sample\n",
    "print(len(mrna_sample))\n",
    "print(len(mirna_sample))\n",
    "print(len(mrna_sample & mirna_sample))\n",
    "\n",
    "trimmed_mirna_data = mirna_data.loc[common_sample,:]\n",
    "print(trimmed_mirna_data.shape)"
   ]
  },
  {
   "cell_type": "code",
   "execution_count": 13,
   "metadata": {},
   "outputs": [],
   "source": [
    "trimmed_mirna_data = trimmed_mirna_data.loc[trimmed_expression_data['sample'],]"
   ]
  },
  {
   "cell_type": "code",
   "execution_count": 14,
   "metadata": {},
   "outputs": [],
   "source": [
    "# trimmed_expression_data.to_csv('data/common_expression_data_mi.tsv', sep = '\\t')\n",
    "trimmed_mirna_data.to_csv('data/common_mirna_data_mi.tsv', sep = '\\t')"
   ]
  },
  {
   "cell_type": "code",
   "execution_count": 24,
   "metadata": {},
   "outputs": [
    {
     "data": {
      "text/plain": [
       "27"
      ]
     },
     "execution_count": 24,
     "metadata": {},
     "output_type": "execute_result"
    }
   ],
   "source": [
    "len(set(trimmed_expression_data['icluster_cluster_assignment']))"
   ]
  },
  {
   "cell_type": "code",
   "execution_count": 28,
   "metadata": {},
   "outputs": [],
   "source": [
    "import random\n",
    "random.seed(2021)\n",
    "trimmed_expression_data.index = range(trimmed_expression_data.shape[0])\n",
    "def get_shuffle_index(expression_data):\n",
    "    # expression_data = pd.read_csv(expression_filepath, sep='\\t', header=0, usecols=[0,1,17946])\n",
    "    # print(expression_data.columns)\n",
    "    all_class = False\n",
    "    while all_class == False:\n",
    "        shuffle_index = np.random.permutation(expression_data.index)\n",
    "        included_class = expression_data['icluster_cluster_assignment'][shuffle_index[int(len(shuffle_index)* 0.9):]].unique()\n",
    "        if len(included_class) == 27:\n",
    "            all_class = True\n",
    "    # print(len(tmp))\n",
    "    return(shuffle_index)\n",
    "shuffle_index = get_shuffle_index(expression_data=trimmed_expression_data)\n",
    "pd.Series(shuffle_index,index=range(len(shuffle_index))).to_csv('data/common_trimmed_shuffle_index.tsv', sep='\\t', header=['index'])"
   ]
  },
  {
   "cell_type": "code",
   "execution_count": 3,
   "metadata": {},
   "outputs": [
    {
     "data": {
      "text/plain": [
       "array([[[0.16464471],\n",
       "        [0.51731161],\n",
       "        [0.47259259],\n",
       "        ...,\n",
       "        [0.        ],\n",
       "        [0.        ],\n",
       "        [0.        ]],\n",
       "\n",
       "       [[0.24436742],\n",
       "        [0.60997963],\n",
       "        [0.50666667],\n",
       "        ...,\n",
       "        [0.        ],\n",
       "        [0.        ],\n",
       "        [0.        ]],\n",
       "\n",
       "       [[0.34055459],\n",
       "        [0.61405295],\n",
       "        [0.74666667],\n",
       "        ...,\n",
       "        [0.        ],\n",
       "        [0.        ],\n",
       "        [0.        ]],\n",
       "\n",
       "       ...,\n",
       "\n",
       "       [[0.14298094],\n",
       "        [0.44602851],\n",
       "        [0.46074074],\n",
       "        ...,\n",
       "        [0.        ],\n",
       "        [0.        ],\n",
       "        [0.        ]],\n",
       "\n",
       "       [[0.21403813],\n",
       "        [0.48370672],\n",
       "        [0.52888889],\n",
       "        ...,\n",
       "        [0.        ],\n",
       "        [0.        ],\n",
       "        [0.        ]],\n",
       "\n",
       "       [[0.19584055],\n",
       "        [0.48167006],\n",
       "        [0.45185185],\n",
       "        ...,\n",
       "        [0.        ],\n",
       "        [0.        ],\n",
       "        [0.        ]]])"
      ]
     },
     "execution_count": 3,
     "metadata": {},
     "output_type": "execute_result"
    }
   ],
   "source": [
    "num_samples = mirna_data.shape[0]\n",
    "np.asarray(mirna_data).reshape(num_samples, -1 ,1)"
   ]
  }
 ],
 "metadata": {
  "interpreter": {
   "hash": "71fcfee4ad4b5b0f313d8aaf36b3be33c7f0f4431c0a099b3f55bac3486af02d"
  },
  "kernelspec": {
   "display_name": "Python 3.7.9 64-bit ('3.7.9': pyenv)",
   "language": "python",
   "name": "python3"
  },
  "language_info": {
   "codemirror_mode": {
    "name": "ipython",
    "version": 3
   },
   "file_extension": ".py",
   "mimetype": "text/x-python",
   "name": "python",
   "nbconvert_exporter": "python",
   "pygments_lexer": "ipython3",
   "version": "3.6.12"
  },
  "orig_nbformat": 4
 },
 "nbformat": 4,
 "nbformat_minor": 2
}
